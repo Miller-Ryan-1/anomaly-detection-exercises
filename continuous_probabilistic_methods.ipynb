{
 "cells": [
  {
   "cell_type": "markdown",
   "id": "cf0b5d95",
   "metadata": {},
   "source": [
    "# I. Using lemonade.csv dataset and focusing on continuous variables "
   ]
  },
  {
   "cell_type": "code",
   "execution_count": 1,
   "id": "40707494",
   "metadata": {},
   "outputs": [
    {
     "name": "stderr",
     "output_type": "stream",
     "text": [
      "/opt/homebrew/anaconda3/lib/python3.9/site-packages/scipy/__init__.py:146: UserWarning: A NumPy version >=1.16.5 and <1.23.0 is required for this version of SciPy (detected version 1.23.0\n",
      "  warnings.warn(f\"A NumPy version >={np_minversion} and <{np_maxversion}\"\n"
     ]
    }
   ],
   "source": [
    "import pandas as pd\n",
    "import numpy as np\n",
    "import matplotlib.pyplot as plt\n",
    "import seaborn as sns"
   ]
  },
  {
   "cell_type": "code",
   "execution_count": 2,
   "id": "c1f6ca78",
   "metadata": {},
   "outputs": [
    {
     "name": "stdout",
     "output_type": "stream",
     "text": [
      "<class 'pandas.core.frame.DataFrame'>\n",
      "RangeIndex: 365 entries, 0 to 364\n",
      "Data columns (total 7 columns):\n",
      " #   Column       Non-Null Count  Dtype  \n",
      "---  ------       --------------  -----  \n",
      " 0   Date         365 non-null    object \n",
      " 1   Day          365 non-null    object \n",
      " 2   Temperature  365 non-null    float64\n",
      " 3   Rainfall     365 non-null    float64\n",
      " 4   Flyers       365 non-null    int64  \n",
      " 5   Price        365 non-null    float64\n",
      " 6   Sales        365 non-null    int64  \n",
      "dtypes: float64(3), int64(2), object(2)\n",
      "memory usage: 20.1+ KB\n"
     ]
    },
    {
     "data": {
      "text/html": [
       "<div>\n",
       "<style scoped>\n",
       "    .dataframe tbody tr th:only-of-type {\n",
       "        vertical-align: middle;\n",
       "    }\n",
       "\n",
       "    .dataframe tbody tr th {\n",
       "        vertical-align: top;\n",
       "    }\n",
       "\n",
       "    .dataframe thead th {\n",
       "        text-align: right;\n",
       "    }\n",
       "</style>\n",
       "<table border=\"1\" class=\"dataframe\">\n",
       "  <thead>\n",
       "    <tr style=\"text-align: right;\">\n",
       "      <th></th>\n",
       "      <th>Date</th>\n",
       "      <th>Day</th>\n",
       "      <th>Temperature</th>\n",
       "      <th>Rainfall</th>\n",
       "      <th>Flyers</th>\n",
       "      <th>Price</th>\n",
       "      <th>Sales</th>\n",
       "    </tr>\n",
       "  </thead>\n",
       "  <tbody>\n",
       "    <tr>\n",
       "      <th>0</th>\n",
       "      <td>1/1/17</td>\n",
       "      <td>Sunday</td>\n",
       "      <td>27.0</td>\n",
       "      <td>2.00</td>\n",
       "      <td>15</td>\n",
       "      <td>0.5</td>\n",
       "      <td>10</td>\n",
       "    </tr>\n",
       "    <tr>\n",
       "      <th>1</th>\n",
       "      <td>1/2/17</td>\n",
       "      <td>Monday</td>\n",
       "      <td>28.9</td>\n",
       "      <td>1.33</td>\n",
       "      <td>15</td>\n",
       "      <td>0.5</td>\n",
       "      <td>13</td>\n",
       "    </tr>\n",
       "    <tr>\n",
       "      <th>2</th>\n",
       "      <td>1/3/17</td>\n",
       "      <td>Tuesday</td>\n",
       "      <td>34.5</td>\n",
       "      <td>1.33</td>\n",
       "      <td>27</td>\n",
       "      <td>0.5</td>\n",
       "      <td>15</td>\n",
       "    </tr>\n",
       "    <tr>\n",
       "      <th>3</th>\n",
       "      <td>1/4/17</td>\n",
       "      <td>Wednesday</td>\n",
       "      <td>44.1</td>\n",
       "      <td>1.05</td>\n",
       "      <td>28</td>\n",
       "      <td>0.5</td>\n",
       "      <td>17</td>\n",
       "    </tr>\n",
       "    <tr>\n",
       "      <th>4</th>\n",
       "      <td>1/5/17</td>\n",
       "      <td>Thursday</td>\n",
       "      <td>42.4</td>\n",
       "      <td>1.00</td>\n",
       "      <td>33</td>\n",
       "      <td>0.5</td>\n",
       "      <td>18</td>\n",
       "    </tr>\n",
       "  </tbody>\n",
       "</table>\n",
       "</div>"
      ],
      "text/plain": [
       "     Date        Day  Temperature  Rainfall  Flyers  Price  Sales\n",
       "0  1/1/17     Sunday         27.0      2.00      15    0.5     10\n",
       "1  1/2/17     Monday         28.9      1.33      15    0.5     13\n",
       "2  1/3/17    Tuesday         34.5      1.33      27    0.5     15\n",
       "3  1/4/17  Wednesday         44.1      1.05      28    0.5     17\n",
       "4  1/5/17   Thursday         42.4      1.00      33    0.5     18"
      ]
     },
     "execution_count": 2,
     "metadata": {},
     "output_type": "execute_result"
    }
   ],
   "source": [
    "df = pd.read_csv('https://gist.githubusercontent.com/ryanorsinger/19bc7eccd6279661bd13307026628ace/raw/e4b5d6787015a4782f96cad6d1d62a8bdbac54c7/lemonade.csv')\n",
    "df.info()\n",
    "df.head()"
   ]
  },
  {
   "cell_type": "markdown",
   "id": "534acdf4",
   "metadata": {},
   "source": [
    "Temp, Flyers and Sales all normal with outlier(s); Rainfall normalish with right skew, sales constant."
   ]
  },
  {
   "cell_type": "markdown",
   "id": "e2a3ad08",
   "metadata": {},
   "source": [
    "## 1. Use the IQR Range Rule and the upper and lower bounds to identify the lower outliers of each column of lemonade.csv, using the multiplier of 1.5. Do these lower outliers make sense? Which outliers should be kept?\n",
    "\n",
    "also combined with\n",
    "\n",
    "## 2. Use the IQR Range Rule and the upper and upper bounds to identify the upper outliers of each column of lemonade.csv, using the multiplier of 1.5. Do these upper outliers make sense? Which outliers should be kept?"
   ]
  },
  {
   "cell_type": "code",
   "execution_count": 22,
   "id": "ecf02f28",
   "metadata": {
    "scrolled": false
   },
   "outputs": [
    {
     "name": "stdout",
     "output_type": "stream",
     "text": [
      "TEMPERATURE\n"
     ]
    },
    {
     "data": {
      "image/png": "[encoded data removed]",
      "text/plain": [
       "<Figure size 432x432 with 1 Axes>"
      ]
     },
     "metadata": {
      "needs_background": "light"
     },
     "output_type": "display_data"
    },
    {
     "name": "stdout",
     "output_type": "stream",
     "text": [
      "count    365.000000\n",
      "mean      61.224658\n",
      "std       18.085892\n",
      "min       15.100000\n",
      "25%       49.700000\n",
      "50%       61.100000\n",
      "75%       71.700000\n",
      "max      212.000000\n",
      "Name: Temperature, dtype: float64\n",
      "\n",
      "Lower Outlier Bound = 16.700000000000003\n",
      "High Outlier Bound = 104.7\n",
      "Low Outliers = [15.1]\n",
      "High Outliers = [212.]\n",
      "\n",
      "-----\n",
      "\n",
      "RAINFALL\n"
     ]
    },
    {
     "data": {
      "image/png": "[encoded data removed]",
      "text/plain": [
       "<Figure size 432x432 with 1 Axes>"
      ]
     },
     "metadata": {
      "needs_background": "light"
     },
     "output_type": "display_data"
    },
    {
     "name": "stdout",
     "output_type": "stream",
     "text": [
      "count    365.000000\n",
      "mean       0.825973\n",
      "std        0.273890\n",
      "min        0.400000\n",
      "25%        0.650000\n",
      "50%        0.740000\n",
      "75%        0.910000\n",
      "max        2.500000\n",
      "Name: Rainfall, dtype: float64\n",
      "\n",
      "Lower Outlier Bound = 0.26\n",
      "High Outlier Bound = 1.3\n",
      "Low Outliers = []\n",
      "High Outliers = [2.   1.33 1.33 1.54 1.54 1.54 1.33 1.33 1.67 1.43 1.43 1.54 1.33 1.33\n",
      " 1.54 1.82 1.43 1.82 1.33 1.43 1.54 1.33 1.43 1.33 1.54 1.43 1.43 2.5 ]\n",
      "\n",
      "-----\n",
      "\n",
      "FLYERS\n"
     ]
    },
    {
     "data": {
      "image/png": "[encoded data removed]",
      "text/plain": [
       "<Figure size 432x432 with 1 Axes>"
      ]
     },
     "metadata": {
      "needs_background": "light"
     },
     "output_type": "display_data"
    },
    {
     "name": "stdout",
     "output_type": "stream",
     "text": [
      "count    365.000000\n",
      "mean      40.104110\n",
      "std       13.786445\n",
      "min      -38.000000\n",
      "25%       31.000000\n",
      "50%       39.000000\n",
      "75%       49.000000\n",
      "max       80.000000\n",
      "Name: Flyers, dtype: float64\n",
      "\n",
      "Lower Outlier Bound = 4.0\n",
      "High Outlier Bound = 76.0\n",
      "Low Outliers = [-38]\n",
      "High Outliers = [77 80]\n",
      "\n",
      "-----\n",
      "\n",
      "SALES\n"
     ]
    },
    {
     "data": {
      "image/png": "[encoded data removed]",
      "text/plain": [
       "<Figure size 432x432 with 1 Axes>"
      ]
     },
     "metadata": {
      "needs_background": "light"
     },
     "output_type": "display_data"
    },
    {
     "name": "stdout",
     "output_type": "stream",
     "text": [
      "count    365.000000\n",
      "mean      27.865753\n",
      "std       30.948132\n",
      "min        7.000000\n",
      "25%       20.000000\n",
      "50%       25.000000\n",
      "75%       30.000000\n",
      "max      534.000000\n",
      "Name: Sales, dtype: float64\n",
      "\n",
      "Lower Outlier Bound = 5.0\n",
      "High Outlier Bound = 45.0\n",
      "Low Outliers = []\n",
      "High Outliers = [143 158 235 534]\n",
      "\n",
      "-----\n",
      "\n"
     ]
    }
   ],
   "source": [
    "k = 1.5\n",
    "\n",
    "df_num = df.drop(columns = ['Date','Day','Price'])\n",
    "for col in df_num.columns:\n",
    "        print(col.upper())\n",
    "        plt.figure(figsize = (6,6))\n",
    "        sns.histplot(data=df[col])\n",
    "        plt.show()\n",
    "        print(df.describe()[col])\n",
    "        print('')\n",
    "        q1 = df[col].quantile(.25)\n",
    "        q3 = df[col].quantile(.75)\n",
    "        iqr = (q3 - q1)\n",
    "        low_outlier = q1 - (k * iqr)\n",
    "        high_outlier = q3 + (k * iqr)\n",
    "        print(f'Lower Outlier Bound = {low_outlier}\\nHigh Outlier Bound = {high_outlier}')\n",
    "        print(f'Low Outliers = {(df_num[df_num[col] < low_outlier])[col].values}\\nHigh Outliers = {(df_num[df_num[col] > high_outlier])[col].values}')\n",
    "        print('\\n-----\\n')"
   ]
  },
  {
   "cell_type": "markdown",
   "id": "f41100e0",
   "metadata": {},
   "source": [
    "#### 1. Lower Outliers\n",
    "- The **Temperature** low outlier is good data and close enough to the cutoff to keep, so keeping that.  \n",
    "- The **Flyers** low outlier data is a negative, and that is definitely a typo (can't have negative numbers there). So will remove that.\n",
    "\n",
    "#### 2. Upper Outliers\n",
    "- **Temperature** had a crazy outlier at boiling temp, so removed that.  \n",
    "- I would leave all of the **Rainfall** high outliers, as they are good data and indicative o many places where average might be driven down by a dry season.\n",
    "- **Flyers** high outliers close enough and within reason, so keeping those.\n",
    "- The **Sales** has 4 high outliers.  Thes are tough as they could be legit from a sale, promotional, something seasonally related, etc.  One is extremely high (534) is over 10x the high outlier bound (and almost 22x median) and even if it is good will throw the analysis off, so would remove that one.  The 235 I would probably do the same for.  I would probably leave the 143 and 158 unless they were really screwing up the rest of the analysis."
   ]
  },
  {
   "cell_type": "markdown",
   "id": "6b06ca0c",
   "metadata": {},
   "source": [
    "## 3. Use the IQR Range Rule and the upper and lower bounds to identify the lower outliers of each column of lemonade.csv, using the multiplier of 3. Do these lower outliers make sense? Which outliers should be kept?\n",
    "\n",
    "also combined with\n",
    "\n",
    "## 4. Use the IQR Range Rule and the upper and upper bounds to identify the upper outliers of each column of lemonade.csv, using the multiplier of 3. Do these upper outliers make sense? Which outliers should be kept?"
   ]
  },
  {
   "cell_type": "code",
   "execution_count": 23,
   "id": "d5334764",
   "metadata": {
    "scrolled": false
   },
   "outputs": [
    {
     "name": "stdout",
     "output_type": "stream",
     "text": [
      "TEMPERATURE\n"
     ]
    },
    {
     "data": {
      "image/png": "[encoded data removed]",
      "text/plain": [
       "<Figure size 432x432 with 1 Axes>"
      ]
     },
     "metadata": {
      "needs_background": "light"
     },
     "output_type": "display_data"
    },
    {
     "name": "stdout",
     "output_type": "stream",
     "text": [
      "count    365.000000\n",
      "mean      61.224658\n",
      "std       18.085892\n",
      "min       15.100000\n",
      "25%       49.700000\n",
      "50%       61.100000\n",
      "75%       71.700000\n",
      "max      212.000000\n",
      "Name: Temperature, dtype: float64\n",
      "\n",
      "Lower Outlier Bound = -16.299999999999997\n",
      "High Outlier Bound = 137.7\n",
      "Low Outliers = []\n",
      "High Outliers = [212.]\n",
      "\n",
      "-----\n",
      "\n",
      "RAINFALL\n"
     ]
    },
    {
     "data": {
      "image/png": "[encoded data removed]",
      "text/plain": [
       "<Figure size 432x432 with 1 Axes>"
      ]
     },
     "metadata": {
      "needs_background": "light"
     },
     "output_type": "display_data"
    },
    {
     "name": "stdout",
     "output_type": "stream",
     "text": [
      "count    365.000000\n",
      "mean       0.825973\n",
      "std        0.273890\n",
      "min        0.400000\n",
      "25%        0.650000\n",
      "50%        0.740000\n",
      "75%        0.910000\n",
      "max        2.500000\n",
      "Name: Rainfall, dtype: float64\n",
      "\n",
      "Lower Outlier Bound = -0.13\n",
      "High Outlier Bound = 1.69\n",
      "Low Outliers = []\n",
      "High Outliers = [2.   1.82 1.82 2.5 ]\n",
      "\n",
      "-----\n",
      "\n",
      "FLYERS\n"
     ]
    },
    {
     "data": {
      "image/png": "[encoded data removed]",
      "text/plain": [
       "<Figure size 432x432 with 1 Axes>"
      ]
     },
     "metadata": {
      "needs_background": "light"
     },
     "output_type": "display_data"
    },
    {
     "name": "stdout",
     "output_type": "stream",
     "text": [
      "count    365.000000\n",
      "mean      40.104110\n",
      "std       13.786445\n",
      "min      -38.000000\n",
      "25%       31.000000\n",
      "50%       39.000000\n",
      "75%       49.000000\n",
      "max       80.000000\n",
      "Name: Flyers, dtype: float64\n",
      "\n",
      "Lower Outlier Bound = -23.0\n",
      "High Outlier Bound = 103.0\n",
      "Low Outliers = [-38]\n",
      "High Outliers = []\n",
      "\n",
      "-----\n",
      "\n",
      "SALES\n"
     ]
    },
    {
     "data": {
      "image/png": "[encoded data removed]",
      "text/plain": [
       "<Figure size 432x432 with 1 Axes>"
      ]
     },
     "metadata": {
      "needs_background": "light"
     },
     "output_type": "display_data"
    },
    {
     "name": "stdout",
     "output_type": "stream",
     "text": [
      "count    365.000000\n",
      "mean      27.865753\n",
      "std       30.948132\n",
      "min        7.000000\n",
      "25%       20.000000\n",
      "50%       25.000000\n",
      "75%       30.000000\n",
      "max      534.000000\n",
      "Name: Sales, dtype: float64\n",
      "\n",
      "Lower Outlier Bound = -10.0\n",
      "High Outlier Bound = 60.0\n",
      "Low Outliers = []\n",
      "High Outliers = [143 158 235 534]\n",
      "\n",
      "-----\n",
      "\n"
     ]
    }
   ],
   "source": [
    "k = 3\n",
    "\n",
    "df_num = df.drop(columns = ['Date','Day','Price'])\n",
    "for col in df_num.columns:\n",
    "        print(col.upper())\n",
    "        plt.figure(figsize = (6,6))\n",
    "        sns.histplot(data=df[col])\n",
    "        plt.show()\n",
    "        print(df.describe()[col])\n",
    "        print('')\n",
    "        q1 = df[col].quantile(.25)\n",
    "        q3 = df[col].quantile(.75)\n",
    "        iqr = (q3 - q1)\n",
    "        low_outlier = q1 - (k * iqr)\n",
    "        high_outlier = q3 + (k * iqr)\n",
    "        print(f'Lower Outlier Bound = {low_outlier}\\nHigh Outlier Bound = {high_outlier}')\n",
    "        print(f'Low Outliers = {(df_num[df_num[col] < low_outlier])[col].values}\\nHigh Outliers = {(df_num[df_num[col] > high_outlier])[col].values}')\n",
    "        print('\\n-----\\n')"
   ]
  },
  {
   "cell_type": "markdown",
   "id": "63949533",
   "metadata": {},
   "source": [
    "Changing the multiplier to 3 mostly eliminated the lower temperature outlier, which we kept when k=1.5 anyway.  The upper outliers for rainfall were reduced; now I might reconsider and first try to see if it made sense to seperate the data into seasons if that made sense.  I'm also starting to wonder about those high outliers for sales, as they are still nowhere near the upper bound.  Really depends on the goal of the analysis."
   ]
  },
  {
   "cell_type": "markdown",
   "id": "108aa051",
   "metadata": {},
   "source": [
    "# II. Identify if any columns in lemonade.csv are normally distributed."
   ]
  },
  {
   "cell_type": "markdown",
   "id": "29015740",
   "metadata": {},
   "source": [
    "## 1. For normally distributed columns use a 2 sigma decision rule to isolate the outliers.  Do these make sense? Should certain outliers be kept?"
   ]
  },
  {
   "cell_type": "markdown",
   "id": "2d07b137",
   "metadata": {},
   "source": [
    "Normally distributed columns are the ones analyzed above (Rainfalls skews right and flyers is somewhat bimodal, but I think they both fit)."
   ]
  },
  {
   "cell_type": "code",
   "execution_count": 39,
   "id": "e418a46e",
   "metadata": {},
   "outputs": [
    {
     "name": "stdout",
     "output_type": "stream",
     "text": [
      "Temperature Outliers\n",
      "364     15.1\n",
      "338     22.0\n",
      "207     97.9\n",
      "190     98.0\n",
      "166     99.3\n",
      "198     99.3\n",
      "202     99.6\n",
      "176    102.6\n",
      "181    102.9\n",
      "41     212.0\n",
      "Name: Temperature, dtype: float64\n",
      "\n",
      "-----\n",
      "\n",
      "Rainfall Outliers\n",
      "359    1.43\n",
      "351    1.43\n",
      "346    1.43\n",
      "342    1.43\n",
      "16     1.43\n",
      "19     1.43\n",
      "363    1.43\n",
      "347    1.54\n",
      "337    1.54\n",
      "23     1.54\n",
      "10     1.54\n",
      "6      1.54\n",
      "5      1.54\n",
      "355    1.54\n",
      "15     1.67\n",
      "343    1.82\n",
      "338    1.82\n",
      "0      2.00\n",
      "364    2.50\n",
      "Name: Rainfall, dtype: float64\n",
      "\n",
      "-----\n",
      "\n",
      "Flyers Outliers\n",
      "324   -38\n",
      "364     9\n",
      "338    11\n",
      "182    68\n",
      "183    68\n",
      "204    69\n",
      "170    70\n",
      "203    72\n",
      "207    74\n",
      "171    76\n",
      "198    76\n",
      "166    77\n",
      "194    80\n",
      "Name: Flyers, dtype: int64\n",
      "\n",
      "-----\n",
      "\n",
      "Sales Outliers\n",
      "181    143\n",
      "182    158\n",
      "183    235\n",
      "184    534\n",
      "Name: Sales, dtype: int64\n",
      "\n",
      "-----\n",
      "\n"
     ]
    }
   ],
   "source": [
    "for col in ['Temperature','Rainfall','Flyers','Sales']:\n",
    "    print(f'{col} Outliers')\n",
    "    zscore = ((df[col] - df[col].mean())/df[col].std())\n",
    "    print(df[col][zscore.abs() >= 2].sort_values())\n",
    "    print('\\n-----\\n')"
   ]
  },
  {
   "cell_type": "markdown",
   "id": "09b70adb",
   "metadata": {},
   "source": [
    "#### This was more aggressive than the IQR method with finding outliers.  Which makes sense since if we are looking at a year of data, a 2-sigma difference happens every 3 weeks, or around 17.3 times per year.  I would keep all Temperature outliers except for 212; Drop the negative Flyers outlier, and keep most if not all of Rainfall and examine sales more before dropping those."
   ]
  },
  {
   "cell_type": "markdown",
   "id": "0b7d6b98",
   "metadata": {},
   "source": [
    "# III. Use 3 sigma decision rule to isolate outliers in normal columns."
   ]
  },
  {
   "cell_type": "code",
   "execution_count": 40,
   "id": "5f9a363f",
   "metadata": {},
   "outputs": [
    {
     "name": "stdout",
     "output_type": "stream",
     "text": [
      "Temperature Outliers\n",
      "41    212.0\n",
      "Name: Temperature, dtype: float64\n",
      "\n",
      "-----\n",
      "\n",
      "Rainfall Outliers\n",
      "15     1.67\n",
      "338    1.82\n",
      "343    1.82\n",
      "0      2.00\n",
      "364    2.50\n",
      "Name: Rainfall, dtype: float64\n",
      "\n",
      "-----\n",
      "\n",
      "Flyers Outliers\n",
      "324   -38\n",
      "Name: Flyers, dtype: int64\n",
      "\n",
      "-----\n",
      "\n",
      "Sales Outliers\n",
      "181    143\n",
      "182    158\n",
      "183    235\n",
      "184    534\n",
      "Name: Sales, dtype: int64\n",
      "\n",
      "-----\n",
      "\n"
     ]
    }
   ],
   "source": [
    "for col in ['Temperature','Rainfall','Flyers','Sales']:\n",
    "    print(f'{col} Outliers')\n",
    "    zscore = ((df[col] - df[col].mean())/df[col].std())\n",
    "    print(df[col][zscore.abs() >= 3].sort_values())\n",
    "    print('\\n-----\\n')"
   ]
  },
  {
   "cell_type": "markdown",
   "id": "46949aa2",
   "metadata": {},
   "source": [
    "#### A 3-sigma rule should eliminate things which if normally distributed happen around once per year.   This makes me think more about removing those rainfall and sales outliers."
   ]
  }
 ],
 "metadata": {
  "kernelspec": {
   "display_name": "Python 3 (ipykernel)",
   "language": "python",
   "name": "python3"
  },
  "language_info": {
   "codemirror_mode": {
    "name": "ipython",
    "version": 3
   },
   "file_extension": ".py",
   "mimetype": "text/x-python",
   "name": "python",
   "nbconvert_exporter": "python",
   "pygments_lexer": "ipython3",
   "version": "3.9.7"
  }
 },
 "nbformat": 4,
 "nbformat_minor": 5
}
